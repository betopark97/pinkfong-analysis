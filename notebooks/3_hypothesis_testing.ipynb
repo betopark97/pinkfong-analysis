{
 "cells": [
  {
   "cell_type": "markdown",
   "metadata": {},
   "source": [
    "# Imports"
   ]
  },
  {
   "cell_type": "code",
   "execution_count": 171,
   "metadata": {},
   "outputs": [],
   "source": [
    "# Systems\n",
    "import warnings\n",
    "\n",
    "# Data Analysis\n",
    "import pandas as pd\n",
    "import matplotlib.pyplot as plt\n",
    "import seaborn as sns\n",
    "\n",
    "# Statistical Analysis\n",
    "import scipy.stats as stats\n",
    "from statsmodels.stats.multicomp import pairwise_tukeyhsd"
   ]
  },
  {
   "cell_type": "code",
   "execution_count": 172,
   "metadata": {},
   "outputs": [],
   "source": [
    "# Ignore warnings \n",
    "warnings.filterwarnings('ignore')"
   ]
  },
  {
   "cell_type": "markdown",
   "metadata": {},
   "source": [
    "# Data"
   ]
  },
  {
   "cell_type": "code",
   "execution_count": 173,
   "metadata": {},
   "outputs": [
    {
     "data": {
      "text/html": [
       "<div>\n",
       "<style scoped>\n",
       "    .dataframe tbody tr th:only-of-type {\n",
       "        vertical-align: middle;\n",
       "    }\n",
       "\n",
       "    .dataframe tbody tr th {\n",
       "        vertical-align: top;\n",
       "    }\n",
       "\n",
       "    .dataframe thead th {\n",
       "        text-align: right;\n",
       "    }\n",
       "</style>\n",
       "<table border=\"1\" class=\"dataframe\">\n",
       "  <thead>\n",
       "    <tr style=\"text-align: right;\">\n",
       "      <th></th>\n",
       "      <th>channel_character</th>\n",
       "      <th>published_at</th>\n",
       "      <th>duration</th>\n",
       "      <th>category_name</th>\n",
       "      <th>view_count</th>\n",
       "      <th>like_count</th>\n",
       "      <th>title</th>\n",
       "      <th>description</th>\n",
       "    </tr>\n",
       "  </thead>\n",
       "  <tbody>\n",
       "    <tr>\n",
       "      <th>0</th>\n",
       "      <td>Pinkfong</td>\n",
       "      <td>2024-12-26 19:00:38</td>\n",
       "      <td>128.883333</td>\n",
       "      <td>Education</td>\n",
       "      <td>9152</td>\n",
       "      <td>33.0</td>\n",
       "      <td>[BEST🏆] 언제 어디서나! 가족과 함께 듣는 핑크퐁 인기 동요 메들리🎶 | +모...</td>\n",
       "      <td>★ 다음은 이 노래를 들어볼까? : https://youtu.be/ueWyQgzjQ...</td>\n",
       "    </tr>\n",
       "    <tr>\n",
       "      <th>1</th>\n",
       "      <td>Pinkfong</td>\n",
       "      <td>2024-12-25 10:00:05</td>\n",
       "      <td>0.166667</td>\n",
       "      <td>Education</td>\n",
       "      <td>40776</td>\n",
       "      <td>1113.0</td>\n",
       "      <td>종소리 울려라~🔔 오늘은 크리스마스에요! #크리스마스 #핑크퐁</td>\n",
       "      <td>★ 다음은 이 노래를 들어볼까? : https://www.youtube.com/wa...</td>\n",
       "    </tr>\n",
       "    <tr>\n",
       "      <th>2</th>\n",
       "      <td>Pinkfong</td>\n",
       "      <td>2024-12-25 10:00:02</td>\n",
       "      <td>180.216667</td>\n",
       "      <td>Education</td>\n",
       "      <td>23468</td>\n",
       "      <td>71.0</td>\n",
       "      <td>[TV📺] 울면 안 돼~ 오늘은 크리스마스에요! | 핑크퐁 아기상어 BEST 캐럴 ...</td>\n",
       "      <td>★ 다음은 이 노래를 들어볼까? : https://www.youtube.com/wa...</td>\n",
       "    </tr>\n",
       "  </tbody>\n",
       "</table>\n",
       "</div>"
      ],
      "text/plain": [
       "  channel_character         published_at    duration category_name  \\\n",
       "0          Pinkfong  2024-12-26 19:00:38  128.883333     Education   \n",
       "1          Pinkfong  2024-12-25 10:00:05    0.166667     Education   \n",
       "2          Pinkfong  2024-12-25 10:00:02  180.216667     Education   \n",
       "\n",
       "   view_count  like_count                                              title  \\\n",
       "0        9152        33.0  [BEST🏆] 언제 어디서나! 가족과 함께 듣는 핑크퐁 인기 동요 메들리🎶 | +모...   \n",
       "1       40776      1113.0                 종소리 울려라~🔔 오늘은 크리스마스에요! #크리스마스 #핑크퐁   \n",
       "2       23468        71.0  [TV📺] 울면 안 돼~ 오늘은 크리스마스에요! | 핑크퐁 아기상어 BEST 캐럴 ...   \n",
       "\n",
       "                                         description  \n",
       "0  ★ 다음은 이 노래를 들어볼까? : https://youtu.be/ueWyQgzjQ...  \n",
       "1  ★ 다음은 이 노래를 들어볼까? : https://www.youtube.com/wa...  \n",
       "2  ★ 다음은 이 노래를 들어볼까? : https://www.youtube.com/wa...  "
      ]
     },
     "execution_count": 173,
     "metadata": {},
     "output_type": "execute_result"
    }
   ],
   "source": [
    "df = pd.read_csv('../data/processed/hypothesis_testing.csv')\n",
    "df.head(3)"
   ]
  },
  {
   "cell_type": "markdown",
   "metadata": {},
   "source": [
    "## Filter outliers by channel"
   ]
  },
  {
   "cell_type": "code",
   "execution_count": 174,
   "metadata": {},
   "outputs": [],
   "source": [
    "def remove_outlier_iqr(df, cols):\n",
    "\tfor col in cols:\n",
    "\t\tq3 = df[col].quantile(.75)\n",
    "\t\tq1 = df[col].quantile(.25)\n",
    "\t\t\n",
    "\t\tiqr = q3 - q1\n",
    "\t\t\n",
    "\t\tupper_bound = q3 + (1.5 * iqr)\n",
    "\t\tlower_bound = q1 - (1.5 * iqr)\n",
    "\t\tmask_normal = (df[col] >= lower_bound) & (df[col] <= upper_bound)\n",
    "\t\t\n",
    "\t\tdf = df.loc[mask_normal]\n",
    "\t\n",
    "\treturn df"
   ]
  },
  {
   "cell_type": "code",
   "execution_count": 175,
   "metadata": {},
   "outputs": [
    {
     "data": {
      "text/html": [
       "<div>\n",
       "<style scoped>\n",
       "    .dataframe tbody tr th:only-of-type {\n",
       "        vertical-align: middle;\n",
       "    }\n",
       "\n",
       "    .dataframe tbody tr th {\n",
       "        vertical-align: top;\n",
       "    }\n",
       "\n",
       "    .dataframe thead th {\n",
       "        text-align: right;\n",
       "    }\n",
       "</style>\n",
       "<table border=\"1\" class=\"dataframe\">\n",
       "  <thead>\n",
       "    <tr style=\"text-align: right;\">\n",
       "      <th></th>\n",
       "      <th>channel_character</th>\n",
       "      <th>published_at</th>\n",
       "      <th>duration</th>\n",
       "      <th>category_name</th>\n",
       "      <th>view_count</th>\n",
       "      <th>like_count</th>\n",
       "      <th>title</th>\n",
       "      <th>description</th>\n",
       "    </tr>\n",
       "  </thead>\n",
       "  <tbody>\n",
       "    <tr>\n",
       "      <th>0</th>\n",
       "      <td>Pinkfong</td>\n",
       "      <td>2024-12-26 19:00:38</td>\n",
       "      <td>128.883333</td>\n",
       "      <td>Education</td>\n",
       "      <td>9152</td>\n",
       "      <td>33.0</td>\n",
       "      <td>[BEST🏆] 언제 어디서나! 가족과 함께 듣는 핑크퐁 인기 동요 메들리🎶 | +모...</td>\n",
       "      <td>★ 다음은 이 노래를 들어볼까? : https://youtu.be/ueWyQgzjQ...</td>\n",
       "    </tr>\n",
       "    <tr>\n",
       "      <th>1</th>\n",
       "      <td>Pinkfong</td>\n",
       "      <td>2024-12-25 10:00:05</td>\n",
       "      <td>0.166667</td>\n",
       "      <td>Education</td>\n",
       "      <td>40776</td>\n",
       "      <td>1113.0</td>\n",
       "      <td>종소리 울려라~🔔 오늘은 크리스마스에요! #크리스마스 #핑크퐁</td>\n",
       "      <td>★ 다음은 이 노래를 들어볼까? : https://www.youtube.com/wa...</td>\n",
       "    </tr>\n",
       "    <tr>\n",
       "      <th>2</th>\n",
       "      <td>Pinkfong</td>\n",
       "      <td>2024-12-25 10:00:02</td>\n",
       "      <td>180.216667</td>\n",
       "      <td>Education</td>\n",
       "      <td>23468</td>\n",
       "      <td>71.0</td>\n",
       "      <td>[TV📺] 울면 안 돼~ 오늘은 크리스마스에요! | 핑크퐁 아기상어 BEST 캐럴 ...</td>\n",
       "      <td>★ 다음은 이 노래를 들어볼까? : https://www.youtube.com/wa...</td>\n",
       "    </tr>\n",
       "  </tbody>\n",
       "</table>\n",
       "</div>"
      ],
      "text/plain": [
       "  channel_character         published_at    duration category_name  \\\n",
       "0          Pinkfong  2024-12-26 19:00:38  128.883333     Education   \n",
       "1          Pinkfong  2024-12-25 10:00:05    0.166667     Education   \n",
       "2          Pinkfong  2024-12-25 10:00:02  180.216667     Education   \n",
       "\n",
       "   view_count  like_count                                              title  \\\n",
       "0        9152        33.0  [BEST🏆] 언제 어디서나! 가족과 함께 듣는 핑크퐁 인기 동요 메들리🎶 | +모...   \n",
       "1       40776      1113.0                 종소리 울려라~🔔 오늘은 크리스마스에요! #크리스마스 #핑크퐁   \n",
       "2       23468        71.0  [TV📺] 울면 안 돼~ 오늘은 크리스마스에요! | 핑크퐁 아기상어 BEST 캐럴 ...   \n",
       "\n",
       "                                         description  \n",
       "0  ★ 다음은 이 노래를 들어볼까? : https://youtu.be/ueWyQgzjQ...  \n",
       "1  ★ 다음은 이 노래를 들어볼까? : https://www.youtube.com/wa...  \n",
       "2  ★ 다음은 이 노래를 들어볼까? : https://www.youtube.com/wa...  "
      ]
     },
     "execution_count": 175,
     "metadata": {},
     "output_type": "execute_result"
    }
   ],
   "source": [
    "df_filtered = pd.DataFrame()\n",
    "\n",
    "for channel in df['channel_character'].unique():\n",
    "    df_channel = df[df['channel_character'] == channel]\n",
    "    df_channel = remove_outlier_iqr(df_channel, ['view_count'])\n",
    "    \n",
    "    df_filtered = pd.concat([df_filtered, df_channel], ignore_index=True)\n",
    "    \n",
    "df_filtered.head(3)\n",
    "    "
   ]
  },
  {
   "cell_type": "markdown",
   "metadata": {},
   "source": [
    "# Functions used for Hypothesis Testing"
   ]
  },
  {
   "cell_type": "code",
   "execution_count": 176,
   "metadata": {},
   "outputs": [],
   "source": [
    "def check_normality(series):\n",
    "    # Perform the Shapiro-Wilk test\n",
    "    _, p_value = stats.shapiro(series)\n",
    "\n",
    "    # Print the results\n",
    "    print(f\"P-value: {p_value}\")\n",
    "\n",
    "    # Interpretation\n",
    "    if p_value > 0.05:\n",
    "        print(\"The data appears to be normally distributed (fail to reject H0).\")\n",
    "    else:\n",
    "        print(\"The data does not appear to be normally distributed (reject H0).\")"
   ]
  },
  {
   "cell_type": "markdown",
   "metadata": {},
   "source": [
    "# Hypothesis Testing"
   ]
  },
  {
   "cell_type": "markdown",
   "metadata": {},
   "source": [
    "## Temporal Trends"
   ]
  },
  {
   "cell_type": "code",
   "execution_count": 177,
   "metadata": {},
   "outputs": [],
   "source": [
    "df_temporal_trends = df_filtered.copy()\n",
    "df_temporal_trends = df_temporal_trends[['channel_character', 'published_at', 'view_count']]\n",
    "\n",
    "# Convert the 'published_at' column to datetime\n",
    "df_temporal_trends['published_at'] = pd.to_datetime(df_temporal_trends['published_at'])\n",
    "\n",
    "# Make day_of_week column\n",
    "df_temporal_trends['day_of_week'] = df_temporal_trends['published_at'].dt.day_name()\n",
    "\n",
    "# Make time_of_day column\n",
    "df_temporal_trends['hour'] = df_temporal_trends['published_at'].dt.hour\n",
    "\n",
    "# Separate the data for each channel\n",
    "df_pinkfong_temporal = df_temporal_trends.loc[df_temporal_trends['channel_character'] == 'Pinkfong', ['day_of_week', 'hour', 'view_count']]\n",
    "df_ollie_temporal = df_temporal_trends.loc[df_temporal_trends['channel_character'] == 'Ollie', ['day_of_week', 'hour', 'view_count']]\n",
    "df_bebefinn_temporal = df_temporal_trends.loc[df_temporal_trends['channel_character'] == 'Bebefinn', ['day_of_week', 'hour', 'view_count']]"
   ]
  },
  {
   "cell_type": "markdown",
   "metadata": {},
   "source": [
    "### Which day of the week is it better to upload? (ANOVA)"
   ]
  },
  {
   "cell_type": "markdown",
   "metadata": {},
   "source": [
    "$H_0$: There is no difference in views across days of the week.\n",
    "\n",
    "$H_1$: There is a difference in views across days of the week."
   ]
  },
  {
   "cell_type": "markdown",
   "metadata": {},
   "source": [
    "Check for normality of data."
   ]
  },
  {
   "cell_type": "code",
   "execution_count": 178,
   "metadata": {},
   "outputs": [
    {
     "name": "stdout",
     "output_type": "stream",
     "text": [
      "Day: Thursday\n",
      "\n",
      "P-value: 1.3678777249011399e-27\n",
      "The data does not appear to be normally distributed (reject H0).\n",
      "\n",
      "Day: Wednesday\n",
      "\n",
      "P-value: 2.0364563422975817e-28\n",
      "The data does not appear to be normally distributed (reject H0).\n",
      "\n",
      "Day: Tuesday\n",
      "\n",
      "P-value: 4.330448305078533e-28\n",
      "The data does not appear to be normally distributed (reject H0).\n",
      "\n",
      "Day: Sunday\n",
      "\n",
      "P-value: 9.162152905102167e-27\n",
      "The data does not appear to be normally distributed (reject H0).\n",
      "\n",
      "Day: Saturday\n",
      "\n",
      "P-value: 1.3676257277256979e-23\n",
      "The data does not appear to be normally distributed (reject H0).\n",
      "\n",
      "Day: Friday\n",
      "\n",
      "P-value: 1.278239595012871e-25\n",
      "The data does not appear to be normally distributed (reject H0).\n",
      "\n",
      "Day: Monday\n",
      "\n",
      "P-value: 1.673886192538892e-25\n",
      "The data does not appear to be normally distributed (reject H0).\n",
      "\n",
      "Day: Friday\n",
      "\n",
      "P-value: 3.07645733473878e-15\n",
      "The data does not appear to be normally distributed (reject H0).\n",
      "\n",
      "Day: Wednesday\n",
      "\n",
      "P-value: 1.347987934765315e-19\n",
      "The data does not appear to be normally distributed (reject H0).\n",
      "\n",
      "Day: Monday\n",
      "\n",
      "P-value: 7.643900883500311e-11\n",
      "The data does not appear to be normally distributed (reject H0).\n",
      "\n",
      "Day: Thursday\n",
      "\n",
      "P-value: 3.271732617568631e-17\n",
      "The data does not appear to be normally distributed (reject H0).\n",
      "\n",
      "Day: Tuesday\n",
      "\n",
      "P-value: 3.82235527011165e-15\n",
      "The data does not appear to be normally distributed (reject H0).\n",
      "\n",
      "Day: Saturday\n",
      "\n",
      "P-value: 3.238131513820937e-15\n",
      "The data does not appear to be normally distributed (reject H0).\n",
      "\n",
      "Day: Sunday\n",
      "\n",
      "P-value: 2.1207072430427143e-16\n",
      "The data does not appear to be normally distributed (reject H0).\n",
      "\n",
      "Day: Monday\n",
      "\n",
      "P-value: 1.1726056841688204e-15\n",
      "The data does not appear to be normally distributed (reject H0).\n",
      "\n",
      "Day: Saturday\n",
      "\n",
      "P-value: 1.127134824154349e-10\n",
      "The data does not appear to be normally distributed (reject H0).\n",
      "\n",
      "Day: Friday\n",
      "\n",
      "P-value: 2.301211202156619e-10\n",
      "The data does not appear to be normally distributed (reject H0).\n",
      "\n",
      "Day: Wednesday\n",
      "\n",
      "P-value: 2.723780293696519e-11\n",
      "The data does not appear to be normally distributed (reject H0).\n",
      "\n",
      "Day: Thursday\n",
      "\n",
      "P-value: 2.4216812705098766e-06\n",
      "The data does not appear to be normally distributed (reject H0).\n",
      "\n",
      "Day: Tuesday\n",
      "\n",
      "P-value: 6.9938459391433224e-09\n",
      "The data does not appear to be normally distributed (reject H0).\n",
      "\n",
      "Day: Sunday\n",
      "\n",
      "P-value: 4.413260124066278e-05\n",
      "The data does not appear to be normally distributed (reject H0).\n",
      "\n"
     ]
    }
   ],
   "source": [
    "# Check for normality of data in Pinkfong's days\n",
    "for day in df_pinkfong_temporal['day_of_week'].unique():\n",
    "    df_day = df_pinkfong_temporal[df_pinkfong_temporal['day_of_week'] == day]\n",
    "    print(f\"Day: {day}\\n\")\n",
    "    try:\n",
    "        check_normality(df_day['view_count'])\n",
    "    except ValueError:\n",
    "        print(\"Insufficient data to perform Shapiro-Wilk test.\")\n",
    "    print()\n",
    "    \n",
    "# Check for normality of data in Ollie's days\n",
    "for day in df_ollie_temporal['day_of_week'].unique():\n",
    "    df_day = df_ollie_temporal[df_ollie_temporal['day_of_week'] == day]\n",
    "    print(f\"Day: {day}\\n\")\n",
    "    try:\n",
    "        check_normality(df_day['view_count'])\n",
    "    except ValueError:\n",
    "        print(\"Insufficient data to perform Shapiro-Wilk test.\")\n",
    "    print()\n",
    "    \n",
    "# Check for normality of data in Bebefinn's days\n",
    "for day in df_bebefinn_temporal['day_of_week'].unique():\n",
    "    df_day = df_bebefinn_temporal[df_bebefinn_temporal['day_of_week'] == day]\n",
    "    print(f\"Day: {day}\\n\")\n",
    "    try:\n",
    "        check_normality(df_day['view_count'])\n",
    "    except ValueError:\n",
    "        print(\"Insufficient data to perform Shapiro-Wilk test.\")\n",
    "    print()\n"
   ]
  },
  {
   "cell_type": "markdown",
   "metadata": {},
   "source": [
    "There is no data that is normally distributed:\n",
    "\n",
    "- All channels have non-normal data so Kruskal-Wallis test is the appropriate test choice."
   ]
  },
  {
   "cell_type": "markdown",
   "metadata": {},
   "source": [
    "Day of Week Hypothesis testing for Pinkfong"
   ]
  },
  {
   "cell_type": "code",
   "execution_count": 179,
   "metadata": {},
   "outputs": [
    {
     "name": "stdout",
     "output_type": "stream",
     "text": [
      "Kruskal-Wallis p-value: 3.41098114394081e-31\n",
      "Reject the null hypothesis: The two groups have different distributions.\n",
      "Post-Hoc results:\n",
      "      group1     group2     meandiff   p-adj        lower        upper  reject\n",
      "0     Friday     Monday -190756.8642  0.0000 -278636.8778 -102876.8506    True\n",
      "1     Friday   Saturday   33250.0538  0.8629  -43597.3995  110097.5071   False\n",
      "2     Friday     Sunday  -69735.0630  0.1150 -147716.7889    8246.6630   False\n",
      "3     Friday   Thursday -108606.1535  0.0009 -187135.2658  -30077.0411    True\n",
      "4     Friday    Tuesday -153005.7763  0.0000 -233700.0313  -72311.5213    True\n",
      "5     Friday  Wednesday -117283.3884  0.0001 -192134.7749  -42432.0019    True\n",
      "6     Monday   Saturday  224006.9180  0.0000  136029.9417  311983.8944    True\n",
      "7     Monday     Sunday  121021.8013  0.0012   32052.3297  209991.2729    True\n",
      "8     Monday   Thursday   82150.7108  0.0962   -7298.9331  171600.3546   False\n",
      "9     Monday    Tuesday   37751.0880  0.8870  -53605.2478  129107.4237   False\n",
      "10    Monday  Wednesday   73473.4758  0.1546  -12765.4212  159712.3728   False\n",
      "11  Saturday     Sunday -102985.1167  0.0020 -181076.0968  -24894.1367    True\n",
      "12  Saturday   Thursday -141856.2072  0.0000 -220493.8132  -63218.6013    True\n",
      "13  Saturday    Tuesday -186255.8301  0.0000 -267055.6715 -105455.9886    True\n",
      "14  Saturday  Wednesday -150533.4422  0.0000 -225498.6451  -75568.2393    True\n",
      "15    Sunday   Thursday  -38871.0905  0.7811 -118617.5110   40875.3300   False\n",
      "16    Sunday    Tuesday  -83270.7133  0.0432 -165150.0934   -1391.3333    True\n",
      "17    Sunday  Wednesday  -47548.3255  0.5191 -123675.8510   28579.2001   False\n",
      "18  Thursday    Tuesday  -44399.6228  0.6891 -126800.5014   38001.2557   False\n",
      "19  Thursday  Wednesday   -8677.2350  0.9999  -85365.3830   68010.9131   False\n",
      "20   Tuesday  Wednesday   35722.3879  0.8352  -43181.4356  114626.2113   False\n"
     ]
    }
   ],
   "source": [
    "# Group the data by 'day_of_week' and extract the 'view_count' values for each group\n",
    "groups = [group['view_count'].values for _, group in df_pinkfong_temporal.groupby('day_of_week')]\n",
    "\n",
    "# Perform the Kruskal-Wallis H-test\n",
    "_, p = stats.kruskal(*groups)\n",
    "\n",
    "# Print the Kruskal-Wallis results\n",
    "print(f'Kruskal-Wallis p-value: {p}')\n",
    "\n",
    "if p < 0.05:\n",
    "    print(\"Reject the null hypothesis: The two groups have different distributions.\")\n",
    "    posthoc_result = pairwise_tukeyhsd(\n",
    "        endog=df_pinkfong_temporal['view_count'], \n",
    "        groups=df_pinkfong_temporal['day_of_week'],\n",
    "        alpha=0.05\n",
    "    )\n",
    "\n",
    "    # Convert the result to a DataFrame and display\n",
    "    posthoc_df = pd.DataFrame(data=posthoc_result.summary().data[1:], columns=posthoc_result.summary().data[0])\n",
    "    print(f\"Post-Hoc results:\\n{posthoc_df}\")\n",
    "else:\n",
    "    print(\"Fail to reject the null hypothesis: No significant difference in distributions.\")"
   ]
  },
  {
   "cell_type": "code",
   "execution_count": 180,
   "metadata": {},
   "outputs": [
    {
     "data": {
      "image/png": "[encoded data removed]",
      "text/plain": [
       "<Figure size 800x600 with 1 Axes>"
      ]
     },
     "metadata": {},
     "output_type": "display_data"
    }
   ],
   "source": [
    "# Calculate the average view_count per day_of_week\n",
    "df_avg_view_count = df_pinkfong_temporal.groupby('day_of_week')['view_count'].mean().reset_index()\n",
    "\n",
    "# Sort the data by day_of_week\n",
    "# Correct order of the days from Monday to Sunday\n",
    "weekday_order = ['Monday', 'Tuesday', 'Wednesday', 'Thursday', 'Friday', 'Saturday', 'Sunday']\n",
    "# Reorder the day_of_week column to ensure proper sorting for the heatmap\n",
    "df_avg_view_count['day_of_week'] = pd.Categorical(df_avg_view_count['day_of_week'], categories=weekday_order, ordered=True)\n",
    "\n",
    "# Plot the bar graph\n",
    "plt.figure(figsize=(8, 6))\n",
    "sns.barplot(data=df_avg_view_count, x='day_of_week', y='view_count', palette='Set2')\n",
    "plt.title('Pinkfong Average View Count by Day of Week', fontsize=16)\n",
    "plt.xlabel('Day of Week', fontsize=14)\n",
    "plt.ylabel('Average View Count', fontsize=14)\n",
    "plt.xticks(rotation=45)\n",
    "plt.tight_layout()\n",
    "plt.show()"
   ]
  },
  {
   "cell_type": "markdown",
   "metadata": {},
   "source": [
    "Day of week Hypothesis testing for Ollie"
   ]
  },
  {
   "cell_type": "code",
   "execution_count": 181,
   "metadata": {},
   "outputs": [
    {
     "name": "stdout",
     "output_type": "stream",
     "text": [
      "Kruskal-Wallis p-value: 1.6811400627867632e-12\n",
      "Reject the null hypothesis: The two groups have different distributions.\n",
      "Post-Hoc results:\n",
      "      group1     group2    meandiff   p-adj        lower        upper  reject\n",
      "0     Friday     Monday -38966.1053  0.4077  -96174.6291   18242.4185   False\n",
      "1     Friday   Saturday  27057.4130  0.4975  -15564.2336   69679.0596   False\n",
      "2     Friday     Sunday   8107.4892  0.9979  -34715.5986   50930.5771   False\n",
      "3     Friday   Thursday -38956.9967  0.1407  -83968.6970    6054.7035   False\n",
      "4     Friday    Tuesday -14885.1203  0.9688  -62466.5527   32696.3121   False\n",
      "5     Friday  Wednesday -46505.4786  0.0270  -89977.3254   -3033.6318    True\n",
      "6     Monday   Saturday  66023.5183  0.0104    9502.4408  122544.5959    True\n",
      "7     Monday     Sunday  47073.5946  0.1777   -9599.5411  103746.7302   False\n",
      "8     Monday   Thursday      9.1086  1.0000  -58335.3908   58353.6080   False\n",
      "9     Monday    Tuesday  24080.9850  0.9023  -36268.1671   84430.1371   False\n",
      "10    Monday  Wednesday  -7539.3733  0.9997  -64704.3006   49625.5540   False\n",
      "11  Saturday     Sunday -18949.9238  0.8350  -60850.2085   22950.3610   False\n",
      "12  Saturday   Thursday -66014.4098  0.0002 -110149.0919  -21879.7276    True\n",
      "13  Saturday    Tuesday -41942.5333  0.1124  -88695.1773    4810.1107   False\n",
      "14  Saturday  Wednesday -73562.8916  0.0000 -116126.0033  -30999.7800    True\n",
      "15    Sunday   Thursday -47064.4860  0.0291  -91393.7344   -2735.2375    True\n",
      "16    Sunday    Tuesday -22992.6096  0.7761  -69928.9688   23943.7497   False\n",
      "17    Sunday  Wednesday -54612.9678  0.0032  -97377.7965  -11848.1392    True\n",
      "18  Thursday    Tuesday  24071.8764  0.7727  -24869.4980   73013.2508   False\n",
      "19  Thursday  Wednesday  -7548.4819  0.9989  -52504.7593   37407.7955   False\n",
      "20   Tuesday  Wednesday -31620.3583  0.4378  -79149.3644   15908.6479   False\n"
     ]
    }
   ],
   "source": [
    "# Group the data by 'day_of_week' and extract the 'view_count' values for each group\n",
    "groups = [group['view_count'].values for _, group in df_ollie_temporal.groupby('day_of_week')]\n",
    "\n",
    "# Perform the Kruskal-Wallis H-test\n",
    "_, p = stats.kruskal(*groups)\n",
    "\n",
    "# Print the Kruskal-Wallis results\n",
    "print(f'Kruskal-Wallis p-value: {p}')\n",
    "\n",
    "if p < 0.05:\n",
    "    print(\"Reject the null hypothesis: The two groups have different distributions.\")\n",
    "    posthoc_result = pairwise_tukeyhsd(\n",
    "        endog=df_ollie_temporal['view_count'], \n",
    "        groups=df_ollie_temporal['day_of_week'],\n",
    "        alpha=0.05\n",
    "    )\n",
    "\n",
    "    # Convert the result to a DataFrame and display\n",
    "    posthoc_df = pd.DataFrame(data=posthoc_result.summary().data[1:], columns=posthoc_result.summary().data[0])\n",
    "    print(f\"Post-Hoc results:\\n{posthoc_df}\")\n",
    "else:\n",
    "    print(\"Fail to reject the null hypothesis: No significant difference in distributions.\")"
   ]
  },
  {
   "cell_type": "code",
   "execution_count": 182,
   "metadata": {},
   "outputs": [
    {
     "data": {
      "image/png": "[encoded data removed]",
      "text/plain": [
       "<Figure size 800x600 with 1 Axes>"
      ]
     },
     "metadata": {},
     "output_type": "display_data"
    }
   ],
   "source": [
    "# Calculate the average view_count per day_of_week\n",
    "df_avg_view_count = df_ollie_temporal.groupby('day_of_week')['view_count'].mean().reset_index()\n",
    "\n",
    "# Sort the data by day_of_week\n",
    "# Correct order of the days from Monday to Sunday\n",
    "weekday_order = ['Monday', 'Tuesday', 'Wednesday', 'Thursday', 'Friday', 'Saturday', 'Sunday']\n",
    "# Reorder the day_of_week column to ensure proper sorting for the heatmap\n",
    "df_avg_view_count['day_of_week'] = pd.Categorical(df_avg_view_count['day_of_week'], categories=weekday_order, ordered=True)\n",
    "\n",
    "# Plot the bar graph\n",
    "plt.figure(figsize=(8, 6))\n",
    "sns.barplot(data=df_avg_view_count, x='day_of_week', y='view_count', palette='Set2')\n",
    "plt.title('Pinkfong Average View Count by Day of Week', fontsize=16)\n",
    "plt.xlabel('Day of Week', fontsize=14)\n",
    "plt.ylabel('Average View Count', fontsize=14)\n",
    "plt.xticks(rotation=45)\n",
    "plt.tight_layout()\n",
    "plt.show()"
   ]
  },
  {
   "cell_type": "markdown",
   "metadata": {},
   "source": [
    "Day of week Hypothesis testing for Bebefinn"
   ]
  },
  {
   "cell_type": "code",
   "execution_count": 183,
   "metadata": {},
   "outputs": [
    {
     "name": "stdout",
     "output_type": "stream",
     "text": [
      "Kruskal-Wallis p-value: 8.402365899694434e-17\n",
      "Reject the null hypothesis: The two groups have different distributions.\n",
      "Post-Hoc results:\n",
      "      group1     group2     meandiff   p-adj        lower         upper  \\\n",
      "0     Friday     Monday -129728.1417  0.8123 -407809.1577  1.483529e+05   \n",
      "1     Friday   Saturday  275546.5359  0.0480    1347.8346  5.497452e+05   \n",
      "2     Friday     Sunday -159804.9330  0.9279 -589380.5800  2.697707e+05   \n",
      "3     Friday   Thursday  441487.3794  0.0001  154603.1967  7.283716e+05   \n",
      "4     Friday    Tuesday  274326.6850  0.0704  -11991.8427  5.606452e+05   \n",
      "5     Friday  Wednesday  -20723.4221  1.0000 -326232.0644  2.847852e+05   \n",
      "6     Monday   Saturday  405274.6776  0.0000  178428.9837  6.321204e+05   \n",
      "7     Monday     Sunday  -30076.7913  1.0000 -431087.1123  3.709335e+05   \n",
      "8     Monday   Thursday  571215.5211  0.0000  329189.5404  8.132415e+05   \n",
      "9     Monday    Tuesday  404054.8267  0.0000  162699.6106  6.454100e+05   \n",
      "10    Monday  Wednesday  109004.7196  0.8854 -154831.5393  3.728410e+05   \n",
      "11  Saturday     Sunday -435351.4689  0.0219 -833679.4164 -3.702352e+04   \n",
      "12  Saturday   Thursday  165940.8435  0.3740  -71614.3113  4.034960e+05   \n",
      "13  Saturday    Tuesday   -1219.8509  1.0000 -238091.5812  2.356519e+05   \n",
      "14  Saturday  Wednesday -296269.9580  0.0138 -556011.0749 -3.652884e+04   \n",
      "15    Sunday   Thursday  601292.3124  0.0003  194128.0208  1.008457e+06   \n",
      "16    Sunday    Tuesday  434131.6180  0.0277   27365.6837  8.408976e+05   \n",
      "17    Sunday  Wednesday  139081.5109  0.9585 -281413.1461  5.595762e+05   \n",
      "18  Thursday    Tuesday -167160.6944  0.4370 -418608.1504  8.428676e+04   \n",
      "19  Thursday  Wednesday -462210.8015  0.0000 -735309.7842 -1.891118e+05   \n",
      "20   Tuesday  Wednesday -295050.1071  0.0240 -567554.8215 -2.254539e+04   \n",
      "\n",
      "    reject  \n",
      "0    False  \n",
      "1     True  \n",
      "2    False  \n",
      "3     True  \n",
      "4    False  \n",
      "5    False  \n",
      "6     True  \n",
      "7    False  \n",
      "8     True  \n",
      "9     True  \n",
      "10   False  \n",
      "11    True  \n",
      "12   False  \n",
      "13   False  \n",
      "14    True  \n",
      "15    True  \n",
      "16    True  \n",
      "17   False  \n",
      "18   False  \n",
      "19    True  \n",
      "20    True  \n"
     ]
    },
    {
     "data": {
      "text/html": [
       "<div>\n",
       "<style scoped>\n",
       "    .dataframe tbody tr th:only-of-type {\n",
       "        vertical-align: middle;\n",
       "    }\n",
       "\n",
       "    .dataframe tbody tr th {\n",
       "        vertical-align: top;\n",
       "    }\n",
       "\n",
       "    .dataframe thead th {\n",
       "        text-align: right;\n",
       "    }\n",
       "</style>\n",
       "<table border=\"1\" class=\"dataframe\">\n",
       "  <thead>\n",
       "    <tr style=\"text-align: right;\">\n",
       "      <th></th>\n",
       "      <th>group1</th>\n",
       "      <th>group2</th>\n",
       "      <th>meandiff</th>\n",
       "      <th>p-adj</th>\n",
       "      <th>lower</th>\n",
       "      <th>upper</th>\n",
       "      <th>reject</th>\n",
       "    </tr>\n",
       "  </thead>\n",
       "  <tbody>\n",
       "    <tr>\n",
       "      <th>0</th>\n",
       "      <td>Friday</td>\n",
       "      <td>Monday</td>\n",
       "      <td>-129728.1417</td>\n",
       "      <td>0.8123</td>\n",
       "      <td>-407809.1577</td>\n",
       "      <td>1.483529e+05</td>\n",
       "      <td>False</td>\n",
       "    </tr>\n",
       "    <tr>\n",
       "      <th>1</th>\n",
       "      <td>Friday</td>\n",
       "      <td>Saturday</td>\n",
       "      <td>275546.5359</td>\n",
       "      <td>0.0480</td>\n",
       "      <td>1347.8346</td>\n",
       "      <td>5.497452e+05</td>\n",
       "      <td>True</td>\n",
       "    </tr>\n",
       "    <tr>\n",
       "      <th>2</th>\n",
       "      <td>Friday</td>\n",
       "      <td>Sunday</td>\n",
       "      <td>-159804.9330</td>\n",
       "      <td>0.9279</td>\n",
       "      <td>-589380.5800</td>\n",
       "      <td>2.697707e+05</td>\n",
       "      <td>False</td>\n",
       "    </tr>\n",
       "    <tr>\n",
       "      <th>3</th>\n",
       "      <td>Friday</td>\n",
       "      <td>Thursday</td>\n",
       "      <td>441487.3794</td>\n",
       "      <td>0.0001</td>\n",
       "      <td>154603.1967</td>\n",
       "      <td>7.283716e+05</td>\n",
       "      <td>True</td>\n",
       "    </tr>\n",
       "    <tr>\n",
       "      <th>4</th>\n",
       "      <td>Friday</td>\n",
       "      <td>Tuesday</td>\n",
       "      <td>274326.6850</td>\n",
       "      <td>0.0704</td>\n",
       "      <td>-11991.8427</td>\n",
       "      <td>5.606452e+05</td>\n",
       "      <td>False</td>\n",
       "    </tr>\n",
       "    <tr>\n",
       "      <th>5</th>\n",
       "      <td>Friday</td>\n",
       "      <td>Wednesday</td>\n",
       "      <td>-20723.4221</td>\n",
       "      <td>1.0000</td>\n",
       "      <td>-326232.0644</td>\n",
       "      <td>2.847852e+05</td>\n",
       "      <td>False</td>\n",
       "    </tr>\n",
       "    <tr>\n",
       "      <th>6</th>\n",
       "      <td>Monday</td>\n",
       "      <td>Saturday</td>\n",
       "      <td>405274.6776</td>\n",
       "      <td>0.0000</td>\n",
       "      <td>178428.9837</td>\n",
       "      <td>6.321204e+05</td>\n",
       "      <td>True</td>\n",
       "    </tr>\n",
       "    <tr>\n",
       "      <th>7</th>\n",
       "      <td>Monday</td>\n",
       "      <td>Sunday</td>\n",
       "      <td>-30076.7913</td>\n",
       "      <td>1.0000</td>\n",
       "      <td>-431087.1123</td>\n",
       "      <td>3.709335e+05</td>\n",
       "      <td>False</td>\n",
       "    </tr>\n",
       "    <tr>\n",
       "      <th>8</th>\n",
       "      <td>Monday</td>\n",
       "      <td>Thursday</td>\n",
       "      <td>571215.5211</td>\n",
       "      <td>0.0000</td>\n",
       "      <td>329189.5404</td>\n",
       "      <td>8.132415e+05</td>\n",
       "      <td>True</td>\n",
       "    </tr>\n",
       "    <tr>\n",
       "      <th>9</th>\n",
       "      <td>Monday</td>\n",
       "      <td>Tuesday</td>\n",
       "      <td>404054.8267</td>\n",
       "      <td>0.0000</td>\n",
       "      <td>162699.6106</td>\n",
       "      <td>6.454100e+05</td>\n",
       "      <td>True</td>\n",
       "    </tr>\n",
       "    <tr>\n",
       "      <th>10</th>\n",
       "      <td>Monday</td>\n",
       "      <td>Wednesday</td>\n",
       "      <td>109004.7196</td>\n",
       "      <td>0.8854</td>\n",
       "      <td>-154831.5393</td>\n",
       "      <td>3.728410e+05</td>\n",
       "      <td>False</td>\n",
       "    </tr>\n",
       "    <tr>\n",
       "      <th>11</th>\n",
       "      <td>Saturday</td>\n",
       "      <td>Sunday</td>\n",
       "      <td>-435351.4689</td>\n",
       "      <td>0.0219</td>\n",
       "      <td>-833679.4164</td>\n",
       "      <td>-3.702352e+04</td>\n",
       "      <td>True</td>\n",
       "    </tr>\n",
       "    <tr>\n",
       "      <th>12</th>\n",
       "      <td>Saturday</td>\n",
       "      <td>Thursday</td>\n",
       "      <td>165940.8435</td>\n",
       "      <td>0.3740</td>\n",
       "      <td>-71614.3113</td>\n",
       "      <td>4.034960e+05</td>\n",
       "      <td>False</td>\n",
       "    </tr>\n",
       "    <tr>\n",
       "      <th>13</th>\n",
       "      <td>Saturday</td>\n",
       "      <td>Tuesday</td>\n",
       "      <td>-1219.8509</td>\n",
       "      <td>1.0000</td>\n",
       "      <td>-238091.5812</td>\n",
       "      <td>2.356519e+05</td>\n",
       "      <td>False</td>\n",
       "    </tr>\n",
       "    <tr>\n",
       "      <th>14</th>\n",
       "      <td>Saturday</td>\n",
       "      <td>Wednesday</td>\n",
       "      <td>-296269.9580</td>\n",
       "      <td>0.0138</td>\n",
       "      <td>-556011.0749</td>\n",
       "      <td>-3.652884e+04</td>\n",
       "      <td>True</td>\n",
       "    </tr>\n",
       "    <tr>\n",
       "      <th>15</th>\n",
       "      <td>Sunday</td>\n",
       "      <td>Thursday</td>\n",
       "      <td>601292.3124</td>\n",
       "      <td>0.0003</td>\n",
       "      <td>194128.0208</td>\n",
       "      <td>1.008457e+06</td>\n",
       "      <td>True</td>\n",
       "    </tr>\n",
       "    <tr>\n",
       "      <th>16</th>\n",
       "      <td>Sunday</td>\n",
       "      <td>Tuesday</td>\n",
       "      <td>434131.6180</td>\n",
       "      <td>0.0277</td>\n",
       "      <td>27365.6837</td>\n",
       "      <td>8.408976e+05</td>\n",
       "      <td>True</td>\n",
       "    </tr>\n",
       "    <tr>\n",
       "      <th>17</th>\n",
       "      <td>Sunday</td>\n",
       "      <td>Wednesday</td>\n",
       "      <td>139081.5109</td>\n",
       "      <td>0.9585</td>\n",
       "      <td>-281413.1461</td>\n",
       "      <td>5.595762e+05</td>\n",
       "      <td>False</td>\n",
       "    </tr>\n",
       "    <tr>\n",
       "      <th>18</th>\n",
       "      <td>Thursday</td>\n",
       "      <td>Tuesday</td>\n",
       "      <td>-167160.6944</td>\n",
       "      <td>0.4370</td>\n",
       "      <td>-418608.1504</td>\n",
       "      <td>8.428676e+04</td>\n",
       "      <td>False</td>\n",
       "    </tr>\n",
       "    <tr>\n",
       "      <th>19</th>\n",
       "      <td>Thursday</td>\n",
       "      <td>Wednesday</td>\n",
       "      <td>-462210.8015</td>\n",
       "      <td>0.0000</td>\n",
       "      <td>-735309.7842</td>\n",
       "      <td>-1.891118e+05</td>\n",
       "      <td>True</td>\n",
       "    </tr>\n",
       "    <tr>\n",
       "      <th>20</th>\n",
       "      <td>Tuesday</td>\n",
       "      <td>Wednesday</td>\n",
       "      <td>-295050.1071</td>\n",
       "      <td>0.0240</td>\n",
       "      <td>-567554.8215</td>\n",
       "      <td>-2.254539e+04</td>\n",
       "      <td>True</td>\n",
       "    </tr>\n",
       "  </tbody>\n",
       "</table>\n",
       "</div>"
      ],
      "text/plain": [
       "      group1     group2     meandiff   p-adj        lower         upper  \\\n",
       "0     Friday     Monday -129728.1417  0.8123 -407809.1577  1.483529e+05   \n",
       "1     Friday   Saturday  275546.5359  0.0480    1347.8346  5.497452e+05   \n",
       "2     Friday     Sunday -159804.9330  0.9279 -589380.5800  2.697707e+05   \n",
       "3     Friday   Thursday  441487.3794  0.0001  154603.1967  7.283716e+05   \n",
       "4     Friday    Tuesday  274326.6850  0.0704  -11991.8427  5.606452e+05   \n",
       "5     Friday  Wednesday  -20723.4221  1.0000 -326232.0644  2.847852e+05   \n",
       "6     Monday   Saturday  405274.6776  0.0000  178428.9837  6.321204e+05   \n",
       "7     Monday     Sunday  -30076.7913  1.0000 -431087.1123  3.709335e+05   \n",
       "8     Monday   Thursday  571215.5211  0.0000  329189.5404  8.132415e+05   \n",
       "9     Monday    Tuesday  404054.8267  0.0000  162699.6106  6.454100e+05   \n",
       "10    Monday  Wednesday  109004.7196  0.8854 -154831.5393  3.728410e+05   \n",
       "11  Saturday     Sunday -435351.4689  0.0219 -833679.4164 -3.702352e+04   \n",
       "12  Saturday   Thursday  165940.8435  0.3740  -71614.3113  4.034960e+05   \n",
       "13  Saturday    Tuesday   -1219.8509  1.0000 -238091.5812  2.356519e+05   \n",
       "14  Saturday  Wednesday -296269.9580  0.0138 -556011.0749 -3.652884e+04   \n",
       "15    Sunday   Thursday  601292.3124  0.0003  194128.0208  1.008457e+06   \n",
       "16    Sunday    Tuesday  434131.6180  0.0277   27365.6837  8.408976e+05   \n",
       "17    Sunday  Wednesday  139081.5109  0.9585 -281413.1461  5.595762e+05   \n",
       "18  Thursday    Tuesday -167160.6944  0.4370 -418608.1504  8.428676e+04   \n",
       "19  Thursday  Wednesday -462210.8015  0.0000 -735309.7842 -1.891118e+05   \n",
       "20   Tuesday  Wednesday -295050.1071  0.0240 -567554.8215 -2.254539e+04   \n",
       "\n",
       "    reject  \n",
       "0    False  \n",
       "1     True  \n",
       "2    False  \n",
       "3     True  \n",
       "4    False  \n",
       "5    False  \n",
       "6     True  \n",
       "7    False  \n",
       "8     True  \n",
       "9     True  \n",
       "10   False  \n",
       "11    True  \n",
       "12   False  \n",
       "13   False  \n",
       "14    True  \n",
       "15    True  \n",
       "16    True  \n",
       "17   False  \n",
       "18   False  \n",
       "19    True  \n",
       "20    True  "
      ]
     },
     "execution_count": 183,
     "metadata": {},
     "output_type": "execute_result"
    }
   ],
   "source": [
    "# Group the data by 'day_of_week' and extract the 'view_count' values for each group\n",
    "groups = [group['view_count'].values for _, group in df_bebefinn_temporal.groupby('day_of_week')]\n",
    "\n",
    "# Perform the Kruskal-Wallis H-test\n",
    "_, p = stats.kruskal(*groups)\n",
    "\n",
    "# Print the Kruskal-Wallis results\n",
    "print(f'Kruskal-Wallis p-value: {p}')\n",
    "\n",
    "if p < 0.05:\n",
    "    print(\"Reject the null hypothesis: The two groups have different distributions.\")\n",
    "    posthoc_result = pairwise_tukeyhsd(\n",
    "        endog=df_bebefinn_temporal['view_count'], \n",
    "        groups=df_bebefinn_temporal['day_of_week'],\n",
    "        alpha=0.05\n",
    "    )\n",
    "\n",
    "    # Convert the result to a DataFrame and display\n",
    "    posthoc_df = pd.DataFrame(data=posthoc_result.summary().data[1:], columns=posthoc_result.summary().data[0])\n",
    "    print(f\"Post-Hoc results:\\n{posthoc_df}\")\n",
    "else:\n",
    "    print(\"Fail to reject the null hypothesis: No significant difference in distributions.\")\n",
    "    \n",
    "posthoc_df"
   ]
  },
  {
   "cell_type": "code",
   "execution_count": 184,
   "metadata": {},
   "outputs": [
    {
     "data": {
      "image/png": "[encoded data removed]",
      "text/plain": [
       "<Figure size 800x600 with 1 Axes>"
      ]
     },
     "metadata": {},
     "output_type": "display_data"
    }
   ],
   "source": [
    "# Calculate the average view_count per day_of_week\n",
    "df_avg_view_count = df_bebefinn_temporal.groupby('day_of_week')['view_count'].mean().reset_index()\n",
    "\n",
    "# Sort the data by day_of_week\n",
    "# Correct order of the days from Monday to Sunday\n",
    "weekday_order = ['Monday', 'Tuesday', 'Wednesday', 'Thursday', 'Friday', 'Saturday', 'Sunday']\n",
    "# Reorder the day_of_week column to ensure proper sorting for the heatmap\n",
    "df_avg_view_count['day_of_week'] = pd.Categorical(df_avg_view_count['day_of_week'], categories=weekday_order, ordered=True)\n",
    "\n",
    "# Plot the bar graph\n",
    "plt.figure(figsize=(8, 6))\n",
    "sns.barplot(data=df_avg_view_count, x='day_of_week', y='view_count', palette='Set2')\n",
    "plt.title('Pinkfong Average View Count by Day of Week', fontsize=16)\n",
    "plt.xlabel('Day of Week', fontsize=14)\n",
    "plt.ylabel('Average View Count', fontsize=14)\n",
    "plt.xticks(rotation=45)\n",
    "plt.tight_layout()\n",
    "plt.show()"
   ]
  },
  {
   "cell_type": "markdown",
   "metadata": {},
   "source": [
    "#### Results: Day of the Week (ANOVA)"
   ]
  },
  {
   "cell_type": "markdown",
   "metadata": {},
   "source": [
    "Pinkfong: Friday and Saturday have significantly more views than the other days. There is no significant difference between the other days.\n",
    "\n",
    "Ollie: Friday, Saturday, and Sunday seem to have more views than other days, but the differences are not that clear. Although the pattern is similar to Pinkfong where there seems to be a trend to peak towards Saturday (which was significantly different with many of the weekdays).\n",
    "\n",
    "Bebefinn: Tuesday, Thursday, Saturday have significantly more views than the other days. There is no significant difference between the other days. However, for Bebefinn, Monday is the day with most uploads but stil Tuesday has more views on average so it would be good to instead upload in one of these three days (Tuesday, Thursday, Saturday)."
   ]
  },
  {
   "cell_type": "markdown",
   "metadata": {},
   "source": [
    "### Which hour of the day is it better to upload? (t-test)"
   ]
  },
  {
   "cell_type": "markdown",
   "metadata": {},
   "source": [
    "$H_0$: There is no difference in views between hours of the day.\n",
    "\n",
    "$H_1$: There is a difference in views between hours of the day."
   ]
  },
  {
   "cell_type": "markdown",
   "metadata": {},
   "source": [
    "Check for data for each hour of the day."
   ]
  },
  {
   "cell_type": "code",
   "execution_count": 185,
   "metadata": {},
   "outputs": [
    {
     "name": "stdout",
     "output_type": "stream",
     "text": [
      "Pinkfong hours:\n",
      "hour\n",
      "19    1607\n",
      "10     542\n",
      "17     461\n",
      "18     251\n",
      "9      170\n",
      "13      91\n",
      "20      49\n",
      "14      38\n",
      "11      34\n",
      "21      22\n",
      "15      19\n",
      "12      18\n",
      "16      11\n",
      "7        5\n",
      "8        5\n",
      "22       3\n",
      "5        2\n",
      "6        1\n",
      "0        1\n",
      "2        1\n",
      "1        1\n",
      "Name: count, dtype: int64\n",
      "\n",
      "Ollie hours:\n",
      "hour\n",
      "19    853\n",
      "10    192\n",
      "18     64\n",
      "20     13\n",
      "21     13\n",
      "9       8\n",
      "8       6\n",
      "15      4\n",
      "14      3\n",
      "17      3\n",
      "12      2\n",
      "16      2\n",
      "13      1\n",
      "0       1\n",
      "7       1\n",
      "Name: count, dtype: int64\n",
      "\n",
      "Bebefinn hours:\n",
      "hour\n",
      "19    558\n",
      "20     13\n",
      "10      6\n",
      "7       4\n",
      "8       2\n",
      "2       1\n",
      "9       1\n",
      "0       1\n",
      "12      1\n",
      "14      1\n",
      "11      1\n",
      "21      1\n",
      "18      1\n",
      "Name: count, dtype: int64\n"
     ]
    }
   ],
   "source": [
    "print('Pinkfong hours:')\n",
    "print(df_pinkfong_temporal['hour'].value_counts())\n",
    "\n",
    "print()\n",
    "\n",
    "print('Ollie hours:')\n",
    "print(df_ollie_temporal['hour'].value_counts())\n",
    "\n",
    "print()\n",
    "\n",
    "print('Bebefinn hours:')\n",
    "print(df_bebefinn_temporal['hour'].value_counts())"
   ]
  },
  {
   "cell_type": "markdown",
   "metadata": {},
   "source": [
    "All in all, most of the upload times for all channels are either 10am or 7pm (10:00 and 19:00). So these are the two groups that will be compared for the channels."
   ]
  },
  {
   "cell_type": "markdown",
   "metadata": {},
   "source": [
    "Check for normality of data."
   ]
  },
  {
   "cell_type": "code",
   "execution_count": 186,
   "metadata": {},
   "outputs": [
    {
     "name": "stdout",
     "output_type": "stream",
     "text": [
      "Hour: 10\n",
      "\n",
      "P-value: 4.7098855557304266e-30\n",
      "The data does not appear to be normally distributed (reject H0).\n",
      "\n",
      "Hour: 19\n",
      "\n",
      "P-value: 4.233718920752333e-46\n",
      "The data does not appear to be normally distributed (reject H0).\n",
      "\n",
      "Hour: 10\n",
      "\n",
      "P-value: 8.269213815137765e-15\n",
      "The data does not appear to be normally distributed (reject H0).\n",
      "\n",
      "Hour: 19\n",
      "\n",
      "P-value: 8.481888188642478e-35\n",
      "The data does not appear to be normally distributed (reject H0).\n",
      "\n",
      "Hour: 10\n",
      "\n",
      "P-value: 0.15955510236336629\n",
      "The data appears to be normally distributed (fail to reject H0).\n",
      "\n",
      "Hour: 19\n",
      "\n",
      "P-value: 5.4385192243195096e-27\n",
      "The data does not appear to be normally distributed (reject H0).\n",
      "\n"
     ]
    }
   ],
   "source": [
    "# Check for normality of data in Pinkfong's hours\n",
    "for hour in [10, 19]:\n",
    "    df_hour = df_pinkfong_temporal[df_pinkfong_temporal['hour'] == hour]\n",
    "    print(f\"Hour: {hour}\\n\")\n",
    "    try:\n",
    "        check_normality(df_hour['view_count'])\n",
    "    except ValueError:\n",
    "        print(\"Insufficient data to perform Shapiro-Wilk test.\")\n",
    "    print()\n",
    "    \n",
    "# Check for normality of data in Ollie's hours\n",
    "for hour in [10, 19]:\n",
    "    df_hour = df_ollie_temporal[df_ollie_temporal['hour'] == hour]\n",
    "    print(f\"Hour: {hour}\\n\")\n",
    "    try:\n",
    "        check_normality(df_hour['view_count'])\n",
    "    except ValueError:\n",
    "        print(\"Insufficient data to perform Shapiro-Wilk test.\")\n",
    "    print()\n",
    "    \n",
    "# Check for normality of data in Bebefinn's hours\n",
    "for hour in [10, 19]:\n",
    "    df_hour = df_bebefinn_temporal[df_bebefinn_temporal['hour'] == hour]\n",
    "    print(f\"Hour: {hour}\\n\")\n",
    "    try:\n",
    "        check_normality(df_hour['view_count'])\n",
    "    except ValueError:\n",
    "        print(\"Insufficient data to perform Shapiro-Wilk test.\")\n",
    "    print()\n"
   ]
  },
  {
   "cell_type": "markdown",
   "metadata": {},
   "source": [
    "The data don't appear to be normally distributed (only 10am for Bebefinn but it has too view values). That's why a non-parametric test will be used."
   ]
  },
  {
   "cell_type": "markdown",
   "metadata": {},
   "source": [
    "Time of day Hypothesis testing for Pinkfong"
   ]
  },
  {
   "cell_type": "code",
   "execution_count": 187,
   "metadata": {},
   "outputs": [
    {
     "name": "stdout",
     "output_type": "stream",
     "text": [
      "Pinkfong hours Mann-Whitney U:\n",
      " p-value:0.27829237632411075\n",
      "Fail to reject the null hypothesis: No significant difference in distributions.\n"
     ]
    }
   ],
   "source": [
    "# Separate the data for each category for Pinkfong Channel\n",
    "df_pinkfong_10 = df_pinkfong_temporal[df_pinkfong_temporal['hour'] == 10]\n",
    "df_pinkfong_19 = df_pinkfong_temporal[df_pinkfong_temporal['hour'] == 19]\n",
    "\n",
    "# Perform Mann-Whitney U test for each category in Pinkfong Channel\n",
    "_, p = stats.mannwhitneyu(\n",
    "    df_pinkfong_10['view_count'], \n",
    "    df_pinkfong_19['view_count']\n",
    ")\n",
    "print(f\"Pinkfong hours Mann-Whitney U:\\n p-value:{p}\")\n",
    "\n",
    "# Interpret the p-value\n",
    "alpha = 0.05\n",
    "if p < alpha:\n",
    "    print(\"Reject the null hypothesis: The two groups have different distributions.\")\n",
    "else:\n",
    "    print(\"Fail to reject the null hypothesis: No significant difference in distributions.\")\n"
   ]
  },
  {
   "cell_type": "code",
   "execution_count": 188,
   "metadata": {},
   "outputs": [
    {
     "data": {
      "image/png": "[encoded data removed]",
      "text/plain": [
       "<Figure size 800x600 with 1 Axes>"
      ]
     },
     "metadata": {},
     "output_type": "display_data"
    }
   ],
   "source": [
    "# Bar plot the average view_count for hour 10 and 19 for Pinkfong Channel\n",
    "\n",
    "# Calculate the average view_count per hour\n",
    "df_avg_view_count = df_pinkfong_temporal.groupby('hour')['view_count'].mean().reset_index()\n",
    "\n",
    "# Plot the bar graph\n",
    "plt.figure(figsize=(8, 6))\n",
    "sns.barplot(data=df_avg_view_count, x='hour', y='view_count', palette='Set2')\n",
    "plt.title('Pinkfong Average View Count by Hour', fontsize=16)\n",
    "plt.xlabel('Hour', fontsize=14)\n",
    "plt.ylabel('Average View Count', fontsize=14)\n",
    "plt.tight_layout()\n",
    "plt.show()"
   ]
  },
  {
   "cell_type": "markdown",
   "metadata": {},
   "source": [
    "Time of day Hypothesis testing for Ollie"
   ]
  },
  {
   "cell_type": "code",
   "execution_count": 189,
   "metadata": {},
   "outputs": [
    {
     "name": "stdout",
     "output_type": "stream",
     "text": [
      "Ollie hours Mann-Whitney U:\n",
      " p-value:0.010934899139714856\n",
      "Reject the null hypothesis: The two groups have different distributions.\n"
     ]
    }
   ],
   "source": [
    "# Separate the data for each category for Ollie Channel\n",
    "df_ollie_10 = df_ollie_temporal[df_ollie_temporal['hour'] == 10]\n",
    "df_ollie_19 = df_ollie_temporal[df_ollie_temporal['hour'] == 19]\n",
    "\n",
    "# Perform Mann-Whitney U test for each category in Ollie Channel\n",
    "_, p = stats.mannwhitneyu(\n",
    "    df_ollie_10['view_count'],\n",
    "    df_ollie_19['view_count']\n",
    ")\n",
    "print(f\"Ollie hours Mann-Whitney U:\\n p-value:{p}\")\n",
    "\n",
    "# Interpret the p-value\n",
    "alpha = 0.05\n",
    "if p < alpha:\n",
    "    print(\"Reject the null hypothesis: The two groups have different distributions.\")\n",
    "else:\n",
    "    print(\"Fail to reject the null hypothesis: No significant difference in distributions.\")"
   ]
  },
  {
   "cell_type": "code",
   "execution_count": 190,
   "metadata": {},
   "outputs": [
    {
     "data": {
      "image/png": "[encoded data removed]",
      "text/plain": [
       "<Figure size 800x600 with 1 Axes>"
      ]
     },
     "metadata": {},
     "output_type": "display_data"
    }
   ],
   "source": [
    "# Bar plot the average view_count for hour 10 and 19 for Ollie Channel\n",
    "\n",
    "# Calculate the average view_count per hour\n",
    "df_avg_view_count = df_ollie_temporal.groupby('hour')['view_count'].mean().reset_index()\n",
    "\n",
    "# Plot the bar graph\n",
    "plt.figure(figsize=(8, 6))\n",
    "sns.barplot(data=df_avg_view_count, x='hour', y='view_count', palette='Set2')\n",
    "plt.title('Ollie Average View Count by Hour', fontsize=16)\n",
    "plt.xlabel('Hour', fontsize=14)\n",
    "plt.ylabel('Average View Count', fontsize=14)\n",
    "plt.xticks(rotation=45)\n",
    "plt.tight_layout()\n",
    "plt.show()"
   ]
  },
  {
   "cell_type": "markdown",
   "metadata": {},
   "source": [
    "Time of day Hypothesis testing for Bebefinn"
   ]
  },
  {
   "cell_type": "code",
   "execution_count": 191,
   "metadata": {},
   "outputs": [
    {
     "name": "stdout",
     "output_type": "stream",
     "text": [
      "Bebefinn hours Mann-Whitney U:\n",
      " p-value:0.7747094270120629\n",
      "Fail to reject the null hypothesis: No significant difference in distributions.\n"
     ]
    }
   ],
   "source": [
    "# Separate the data for each category for Bebefinn Channel\n",
    "df_bebefinn_10 = df_bebefinn_temporal[df_bebefinn_temporal['hour'] == 10]\n",
    "df_bebefinn_19 = df_bebefinn_temporal[df_bebefinn_temporal['hour'] == 19]\n",
    "\n",
    "# Perform Mann-Whitney U test for each category in Bebefinn Channel\n",
    "_, p = stats.mannwhitneyu(\n",
    "    df_bebefinn_10['view_count'],\n",
    "    df_bebefinn_19['view_count']\n",
    ")\n",
    "print(f\"Bebefinn hours Mann-Whitney U:\\n p-value:{p}\")\n",
    "\n",
    "# Interpret the p-value \n",
    "alpha = 0.05\n",
    "if p < alpha:\n",
    "    print(\"Reject the null hypothesis: The two groups have different distributions.\")\n",
    "else:\n",
    "    print(\"Fail to reject the null hypothesis: No significant difference in distributions.\")"
   ]
  },
  {
   "cell_type": "code",
   "execution_count": 192,
   "metadata": {},
   "outputs": [
    {
     "data": {
      "image/png": "[encoded data removed]",
      "text/plain": [
       "<Figure size 800x600 with 1 Axes>"
      ]
     },
     "metadata": {},
     "output_type": "display_data"
    }
   ],
   "source": [
    "# Bar plot the average view_count for hour 10 and 19 for Bebefinn Channel\n",
    "\n",
    "# Calculate the average view_count per hour\n",
    "df_avg_view_count = df_bebefinn_temporal.groupby('hour')['view_count'].mean().reset_index()\n",
    "\n",
    "# Plot the bar graph    \n",
    "plt.figure(figsize=(8, 6))\n",
    "sns.barplot(data=df_avg_view_count, x='hour', y='view_count', palette='Set2')\n",
    "plt.title('Bebefinn Average View Count by Hour', fontsize=16)\n",
    "plt.xlabel('Hour', fontsize=14)\n",
    "plt.ylabel('Average View Count', fontsize=14)\n",
    "plt.xticks(rotation=45)\n",
    "plt.tight_layout()\n",
    "plt.show()"
   ]
  },
  {
   "cell_type": "markdown",
   "metadata": {},
   "source": [
    "#### Results: Time of Day (t-test)"
   ]
  },
  {
   "cell_type": "markdown",
   "metadata": {},
   "source": [
    "Ollie was the only channel with a significant difference in views between 10am and 19am. \n",
    "\n",
    "Pinkfong and Bebefinn did not show a significant difference in views between 10am and 19am.\n",
    "\n",
    "However, by looking at the different averages of views per hour, it could be said that even though it is fewer, videos with earlier upload times tend to have more views.\n",
    "\n",
    "This could mean that instead of uploading mostly at 19:00, the upload times could be halved or mostly moved to an earlier time of the day like 09:00 or 10:00."
   ]
  },
  {
   "cell_type": "markdown",
   "metadata": {},
   "source": [
    "## Comparative Analysis"
   ]
  },
  {
   "cell_type": "markdown",
   "metadata": {},
   "source": [
    "### Which category is it better to upload? (ANOVA)"
   ]
  },
  {
   "cell_type": "markdown",
   "metadata": {},
   "source": [
    "$H_0$: There is no difference in views across categories.\n",
    "\n",
    "$H_1$: There is a difference in views across categories."
   ]
  },
  {
   "cell_type": "code",
   "execution_count": 193,
   "metadata": {},
   "outputs": [
    {
     "data": {
      "text/html": [
       "<div>\n",
       "<style scoped>\n",
       "    .dataframe tbody tr th:only-of-type {\n",
       "        vertical-align: middle;\n",
       "    }\n",
       "\n",
       "    .dataframe tbody tr th {\n",
       "        vertical-align: top;\n",
       "    }\n",
       "\n",
       "    .dataframe thead th {\n",
       "        text-align: right;\n",
       "    }\n",
       "</style>\n",
       "<table border=\"1\" class=\"dataframe\">\n",
       "  <thead>\n",
       "    <tr style=\"text-align: right;\">\n",
       "      <th></th>\n",
       "      <th>channel_character</th>\n",
       "      <th>category_name</th>\n",
       "      <th>view_count</th>\n",
       "    </tr>\n",
       "  </thead>\n",
       "  <tbody>\n",
       "    <tr>\n",
       "      <th>0</th>\n",
       "      <td>Pinkfong</td>\n",
       "      <td>Education</td>\n",
       "      <td>9152</td>\n",
       "    </tr>\n",
       "    <tr>\n",
       "      <th>1</th>\n",
       "      <td>Pinkfong</td>\n",
       "      <td>Education</td>\n",
       "      <td>40776</td>\n",
       "    </tr>\n",
       "    <tr>\n",
       "      <th>2</th>\n",
       "      <td>Pinkfong</td>\n",
       "      <td>Education</td>\n",
       "      <td>23468</td>\n",
       "    </tr>\n",
       "    <tr>\n",
       "      <th>3</th>\n",
       "      <td>Pinkfong</td>\n",
       "      <td>Education</td>\n",
       "      <td>8974</td>\n",
       "    </tr>\n",
       "    <tr>\n",
       "      <th>4</th>\n",
       "      <td>Pinkfong</td>\n",
       "      <td>Education</td>\n",
       "      <td>201126</td>\n",
       "    </tr>\n",
       "  </tbody>\n",
       "</table>\n",
       "</div>"
      ],
      "text/plain": [
       "  channel_character category_name  view_count\n",
       "0          Pinkfong     Education        9152\n",
       "1          Pinkfong     Education       40776\n",
       "2          Pinkfong     Education       23468\n",
       "3          Pinkfong     Education        8974\n",
       "4          Pinkfong     Education      201126"
      ]
     },
     "execution_count": 193,
     "metadata": {},
     "output_type": "execute_result"
    }
   ],
   "source": [
    "df_category_performance = df_filtered.copy()\n",
    "df_category_performance = df_category_performance[['channel_character', 'category_name', 'view_count']]\n",
    "df_category_performance.head(5)"
   ]
  },
  {
   "cell_type": "markdown",
   "metadata": {},
   "source": [
    "Check for normality of data"
   ]
  },
  {
   "cell_type": "code",
   "execution_count": 194,
   "metadata": {},
   "outputs": [
    {
     "name": "stdout",
     "output_type": "stream",
     "text": [
      "Channel: Pinkfong\n",
      "\n",
      "Category: Education\n",
      "\n",
      "P-value: 2.144649838405022e-57\n",
      "The data does not appear to be normally distributed (reject H0).\n",
      "\n",
      "Category: Pets & Animals\n",
      "\n",
      "P-value: 0.9648436781886464\n",
      "The data appears to be normally distributed (fail to reject H0).\n",
      "\n",
      "Category: Entertainment\n",
      "\n",
      "P-value: 1.1495543688763417e-08\n",
      "The data does not appear to be normally distributed (reject H0).\n",
      "\n",
      "Category: Sports\n",
      "\n",
      "Insufficient data to perform Shapiro-Wilk test.\n",
      "\n",
      "Category: Gaming\n",
      "\n",
      "P-value: 0.16820068787384676\n",
      "The data appears to be normally distributed (fail to reject H0).\n",
      "\n",
      "Category: Film & Animation\n",
      "\n",
      "Insufficient data to perform Shapiro-Wilk test.\n",
      "\n",
      "Category: People & Blogs\n",
      "\n",
      "Insufficient data to perform Shapiro-Wilk test.\n",
      "\n",
      "Channel: Ollie\n",
      "\n",
      "Category: Entertainment\n",
      "\n",
      "P-value: 2.635155121632535e-31\n",
      "The data does not appear to be normally distributed (reject H0).\n",
      "\n",
      "Category: Film & Animation\n",
      "\n",
      "P-value: 3.2331476094565966e-26\n",
      "The data does not appear to be normally distributed (reject H0).\n",
      "\n",
      "Category: Gaming\n",
      "\n",
      "Insufficient data to perform Shapiro-Wilk test.\n",
      "\n",
      "Category: Education\n",
      "\n",
      "Insufficient data to perform Shapiro-Wilk test.\n",
      "\n"
     ]
    }
   ],
   "source": [
    "for channel in ['Pinkfong', 'Ollie']:\n",
    "    df_channel = df_category_performance[df_category_performance['channel_character'] == channel]\n",
    "    print(f\"Channel: {channel}\\n\")\n",
    "    \n",
    "    for category in df_channel['category_name'].unique():\n",
    "        df_category = df_channel[df_channel['category_name'] == category]\n",
    "        print(f\"Category: {category}\\n\")\n",
    "        try:\n",
    "            check_normality(df_category['view_count'])\n",
    "        except ValueError:\n",
    "            print(\"Insufficient data to perform Shapiro-Wilk test.\")\n",
    "        print()"
   ]
  },
  {
   "cell_type": "markdown",
   "metadata": {},
   "source": [
    "Check for data for each category."
   ]
  },
  {
   "cell_type": "code",
   "execution_count": 195,
   "metadata": {},
   "outputs": [
    {
     "name": "stdout",
     "output_type": "stream",
     "text": [
      "Pinkfong categories:\n",
      "category_name\n",
      "Education           3246\n",
      "Entertainment         76\n",
      "Pets & Animals         3\n",
      "Gaming                 3\n",
      "Film & Animation       2\n",
      "Sports                 1\n",
      "People & Blogs         1\n",
      "Name: count, dtype: int64\n",
      "\n",
      "Ollie categories:\n",
      "category_name\n",
      "Entertainment       700\n",
      "Film & Animation    462\n",
      "Gaming                2\n",
      "Education             2\n",
      "Name: count, dtype: int64\n"
     ]
    }
   ],
   "source": [
    "print('Pinkfong categories:')\n",
    "print(df_category_performance.loc[df_category_performance['channel_character'] == 'Pinkfong', 'category_name'].value_counts())\n",
    "\n",
    "print('\\nOllie categories:')\n",
    "print(df_category_performance.loc[df_category_performance['channel_character'] == 'Ollie', 'category_name'].value_counts())"
   ]
  },
  {
   "cell_type": "markdown",
   "metadata": {},
   "source": [
    "There are many categories that have insufficient data, so first, those categories will be removed.\n",
    "\n",
    "Pinkfong: Education, Pets & Animals, Entertainment, Gaming\n",
    "\n",
    "Ollie: Entertainment, Films & Animation"
   ]
  },
  {
   "cell_type": "code",
   "execution_count": 196,
   "metadata": {},
   "outputs": [
    {
     "name": "stdout",
     "output_type": "stream",
     "text": [
      "['Education' 'Entertainment']\n",
      "['Entertainment' 'Film & Animation']\n"
     ]
    }
   ],
   "source": [
    "df_pinkfong_categories = (\n",
    "    df_category_performance\n",
    "    .loc[\n",
    "        (df_category_performance['channel_character'] == 'Pinkfong') &\n",
    "        (df_category_performance['category_name'].isin(['Education', 'Entertainment']))\n",
    "    ]\n",
    ")\n",
    "\n",
    "df_ollie_categories = (\n",
    "    df_category_performance\n",
    "    .loc[\n",
    "        (df_category_performance['channel_character'] == 'Ollie') &\n",
    "        (df_category_performance['category_name'].isin(['Entertainment', 'Film & Animation']))\n",
    "    ]\n",
    ")\n",
    "\n",
    "print(df_pinkfong_categories['category_name'].unique())\n",
    "print(df_ollie_categories['category_name'].unique())"
   ]
  },
  {
   "cell_type": "markdown",
   "metadata": {},
   "source": [
    "There is no data that is normally distributed:\n",
    "\n",
    "- ANOVA for Pinkfong will be performed with a non-parametric test: Kruskal-Wallis test.\n",
    "- t-test for Ollie will be performed with a non-parametric test: Mann-Whitney U test."
   ]
  },
  {
   "cell_type": "code",
   "execution_count": 197,
   "metadata": {},
   "outputs": [
    {
     "name": "stdout",
     "output_type": "stream",
     "text": [
      "Pinkfong categories Mann-Whitney U:\n",
      " p-value:0.34448312275153037\n",
      "Fail to reject the null hypothesis: No significant difference in distributions.\n"
     ]
    }
   ],
   "source": [
    "# Separate the data for each category for Pinkfong Channel\n",
    "df_pinkfong_education = df_pinkfong_categories[df_pinkfong_categories['category_name'] == 'Education']\n",
    "df_pinkfong_entertainment = df_pinkfong_categories[df_pinkfong_categories['category_name'] == 'Entertainment']\n",
    "\n",
    "# Perform Kruskal-Wallis test for each category in Pinkfong Channel\n",
    "_, p = stats.mannwhitneyu(\n",
    "    df_pinkfong_education['view_count'], \n",
    "    df_pinkfong_entertainment['view_count'], \n",
    ")\n",
    "print(f\"Pinkfong categories Mann-Whitney U:\\n p-value:{p}\")\n",
    "\n",
    "# Interpret the p-value\n",
    "alpha = 0.05\n",
    "if p < alpha:\n",
    "    print(\"Reject the null hypothesis: The two groups have different distributions.\")\n",
    "else:\n",
    "    print(\"Fail to reject the null hypothesis: No significant difference in distributions.\")"
   ]
  },
  {
   "cell_type": "code",
   "execution_count": 198,
   "metadata": {},
   "outputs": [
    {
     "name": "stdout",
     "output_type": "stream",
     "text": [
      "Ollie categories Mann-Whitney U:\n",
      " p-value:0.5816650363983238\n",
      "Fail to reject the null hypothesis: No significant difference in distributions.\n"
     ]
    }
   ],
   "source": [
    "# Separate the data for each category for Ollie Channel\n",
    "df_ollie_entertainment = df_ollie_categories[df_ollie_categories['category_name'] == 'Entertainment']\n",
    "df_ollie_films = df_ollie_categories[df_ollie_categories['category_name'] == 'Film & Animation']\n",
    "\n",
    "# Perform Mann-Whitney U test for each category in Ollie Channel\n",
    "_, p = stats.mannwhitneyu(\n",
    "    df_ollie_entertainment['view_count'], \n",
    "    df_ollie_films['view_count']\n",
    ")\n",
    "print(f\"Ollie categories Mann-Whitney U:\\n p-value:{p}\")\n",
    "\n",
    "# Interpret the p-value\n",
    "alpha = 0.05\n",
    "if p < alpha:\n",
    "    print(\"Reject the null hypothesis: The two groups have different distributions.\")\n",
    "else:\n",
    "    print(\"Fail to reject the null hypothesis: No significant difference in distributions.\")"
   ]
  },
  {
   "cell_type": "markdown",
   "metadata": {},
   "source": [
    "Because there was no significant differences across the categories in both channels, some metrics can also be defined to reflect the performance of each category to help with the comparison for data imbalance:\n",
    "\n",
    "•\tView rate: Total views divided by the total number of videos in each category.\n",
    "\n",
    "$\\text{View Rate (VR)} = \\frac{\\text{Total Views in Category}}{\\text{Number of Videos in Category}}$\n",
    "\n",
    "•\tProportion of videos: Distribution of videos across categories (imbalanced data).\n",
    "\n",
    "$\\text{Proportion (P)} = \\frac{\\text{Number of Videos in Category}}{\\text{Total Videos}}$\n",
    "\n",
    "Combine the two metrics above to make a KPI:  \n",
    "\n",
    "$\\text{KPI} = \\text{Proportion (P)} \\cdot \\text{View Rate}$\n"
   ]
  },
  {
   "cell_type": "code",
   "execution_count": 199,
   "metadata": {},
   "outputs": [
    {
     "data": {
      "text/html": [
       "<div>\n",
       "<style scoped>\n",
       "    .dataframe tbody tr th:only-of-type {\n",
       "        vertical-align: middle;\n",
       "    }\n",
       "\n",
       "    .dataframe tbody tr th {\n",
       "        vertical-align: top;\n",
       "    }\n",
       "\n",
       "    .dataframe thead th {\n",
       "        text-align: right;\n",
       "    }\n",
       "</style>\n",
       "<table border=\"1\" class=\"dataframe\">\n",
       "  <thead>\n",
       "    <tr style=\"text-align: right;\">\n",
       "      <th></th>\n",
       "      <th>channel_character</th>\n",
       "      <th>category_name</th>\n",
       "      <th>video_count</th>\n",
       "      <th>kpi</th>\n",
       "    </tr>\n",
       "  </thead>\n",
       "  <tbody>\n",
       "    <tr>\n",
       "      <th>0</th>\n",
       "      <td>Pinkfong</td>\n",
       "      <td>Education</td>\n",
       "      <td>3246</td>\n",
       "      <td>354335.181273</td>\n",
       "    </tr>\n",
       "    <tr>\n",
       "      <th>1</th>\n",
       "      <td>Pinkfong</td>\n",
       "      <td>Pets &amp; Animals</td>\n",
       "      <td>3</td>\n",
       "      <td>672.978691</td>\n",
       "    </tr>\n",
       "    <tr>\n",
       "      <th>2</th>\n",
       "      <td>Pinkfong</td>\n",
       "      <td>Entertainment</td>\n",
       "      <td>76</td>\n",
       "      <td>7872.927071</td>\n",
       "    </tr>\n",
       "    <tr>\n",
       "      <th>3</th>\n",
       "      <td>Pinkfong</td>\n",
       "      <td>Sports</td>\n",
       "      <td>1</td>\n",
       "      <td>127.889556</td>\n",
       "    </tr>\n",
       "    <tr>\n",
       "      <th>4</th>\n",
       "      <td>Pinkfong</td>\n",
       "      <td>Gaming</td>\n",
       "      <td>3</td>\n",
       "      <td>378.386255</td>\n",
       "    </tr>\n",
       "    <tr>\n",
       "      <th>5</th>\n",
       "      <td>Pinkfong</td>\n",
       "      <td>Film &amp; Animation</td>\n",
       "      <td>2</td>\n",
       "      <td>82.316927</td>\n",
       "    </tr>\n",
       "    <tr>\n",
       "      <th>6</th>\n",
       "      <td>Pinkfong</td>\n",
       "      <td>People &amp; Blogs</td>\n",
       "      <td>1</td>\n",
       "      <td>14.583133</td>\n",
       "    </tr>\n",
       "    <tr>\n",
       "      <th>7</th>\n",
       "      <td>Ollie</td>\n",
       "      <td>Entertainment</td>\n",
       "      <td>700</td>\n",
       "      <td>76283.198971</td>\n",
       "    </tr>\n",
       "    <tr>\n",
       "      <th>8</th>\n",
       "      <td>Ollie</td>\n",
       "      <td>Film &amp; Animation</td>\n",
       "      <td>462</td>\n",
       "      <td>48870.560034</td>\n",
       "    </tr>\n",
       "    <tr>\n",
       "      <th>9</th>\n",
       "      <td>Ollie</td>\n",
       "      <td>Gaming</td>\n",
       "      <td>2</td>\n",
       "      <td>31.386792</td>\n",
       "    </tr>\n",
       "    <tr>\n",
       "      <th>10</th>\n",
       "      <td>Ollie</td>\n",
       "      <td>Education</td>\n",
       "      <td>2</td>\n",
       "      <td>202.966552</td>\n",
       "    </tr>\n",
       "  </tbody>\n",
       "</table>\n",
       "</div>"
      ],
      "text/plain": [
       "   channel_character     category_name  video_count            kpi\n",
       "0           Pinkfong         Education         3246  354335.181273\n",
       "1           Pinkfong    Pets & Animals            3     672.978691\n",
       "2           Pinkfong     Entertainment           76    7872.927071\n",
       "3           Pinkfong            Sports            1     127.889556\n",
       "4           Pinkfong            Gaming            3     378.386255\n",
       "5           Pinkfong  Film & Animation            2      82.316927\n",
       "6           Pinkfong    People & Blogs            1      14.583133\n",
       "7              Ollie     Entertainment          700   76283.198971\n",
       "8              Ollie  Film & Animation          462   48870.560034\n",
       "9              Ollie            Gaming            2      31.386792\n",
       "10             Ollie         Education            2     202.966552"
      ]
     },
     "execution_count": 199,
     "metadata": {},
     "output_type": "execute_result"
    }
   ],
   "source": [
    "df_kpi = df_category_performance.copy()\n",
    "df_kpi = df_kpi.loc[df_kpi['channel_character'].isin(['Pinkfong', 'Ollie'])].reset_index(drop=True)\n",
    "\n",
    "# Calculate the metrics\n",
    "df_kpi['total_views_in_category'] = (\n",
    "    df_kpi\n",
    "    .groupby(['channel_character', 'category_name'])['view_count']\n",
    "    .transform('sum')\n",
    ")\n",
    "\n",
    "df_kpi['number_of_videos_in_category'] = (\n",
    "    df_kpi\n",
    "    .groupby(['channel_character', 'category_name'])['view_count']\n",
    "    .transform('count')\n",
    ")\n",
    "\n",
    "df_kpi['total_videos'] = (\n",
    "    df_kpi\n",
    "    .groupby('channel_character')['view_count']\n",
    "    .transform('count')\n",
    ")\n",
    "\n",
    "# Calculate the view_rate\n",
    "df_kpi['view_rate'] = (\n",
    "    df_kpi['total_views_in_category'] / \n",
    "    df_kpi['number_of_videos_in_category']\n",
    ")\n",
    "\n",
    "# Calculate the proportion\n",
    "df_kpi['proportion'] = (\n",
    "    df_kpi['number_of_videos_in_category'] / \n",
    "    df_kpi['total_videos']\n",
    ")\n",
    "\n",
    "df_kpi['kpi'] = (\n",
    "    df_kpi['view_rate'] *\n",
    "    df_kpi['proportion']\n",
    ")\n",
    "\n",
    "df_kpi_results = (\n",
    "    df_kpi\n",
    "    .drop_duplicates(subset=['channel_character', 'category_name'])\n",
    "    .reset_index(drop=True)\n",
    "    [['channel_character', 'category_name', 'number_of_videos_in_category', 'kpi']]\n",
    "    .rename(columns={'number_of_videos_in_category': 'video_count'})\n",
    ")\n",
    "df_kpi_results"
   ]
  },
  {
   "cell_type": "markdown",
   "metadata": {},
   "source": [
    "#### Results: Category (Mann-Whitney U)"
   ]
  },
  {
   "cell_type": "markdown",
   "metadata": {},
   "source": [
    "Considering the number of videos in each categories for all three channels:\n",
    "\n",
    "- Pinkfong categories Mann-Whitney U: there were only two categories that were worth comparing (Education and Entertainment). There was no significant difference in the view rates.\n",
    "\n",
    "- Ollie categories Mann-Whitney U: there were only two categories that were worth comparing (Entertainment and Films & Animation). There was no significant difference in the view rates.\n",
    "\n",
    "- Bebefinn was excluded because it has only one category."
   ]
  },
  {
   "cell_type": "markdown",
   "metadata": {},
   "source": [
    "When comparing the KPIs, the dataframe: `df_kpi_results` might be useful in a dashboard to track the performance of each category."
   ]
  },
  {
   "cell_type": "markdown",
   "metadata": {},
   "source": [
    "save the results to a CSV file"
   ]
  },
  {
   "cell_type": "code",
   "execution_count": 200,
   "metadata": {},
   "outputs": [],
   "source": [
    "df_kpi_save = (\n",
    "    df_kpi\n",
    "    .drop(columns=['view_count'])\n",
    "    .rename(columns=\n",
    "        {\n",
    "            'total_views_in_category': 'view_count_category',\n",
    "            'number_of_videos_in_category': 'video_count_category',\n",
    "            'total_videos': 'video_count_total'\n",
    "        }\n",
    "    )\n",
    "    .drop_duplicates(subset=['channel_character', 'category_name'])\n",
    "    .reset_index(drop=True)\n",
    ")\n",
    "df_kpi_save.to_csv('../data/tableau/kpi.csv', header=True, index=False)"
   ]
  },
  {
   "cell_type": "code",
   "execution_count": null,
   "metadata": {},
   "outputs": [],
   "source": []
  }
 ],
 "metadata": {
  "kernelspec": {
   "display_name": ".venv",
   "language": "python",
   "name": "python3"
  },
  "language_info": {
   "codemirror_mode": {
    "name": "ipython",
    "version": 3
   },
   "file_extension": ".py",
   "mimetype": "text/x-python",
   "name": "python",
   "nbconvert_exporter": "python",
   "pygments_lexer": "ipython3",
   "version": "3.10.14"
  }
 },
 "nbformat": 4,
 "nbformat_minor": 2
}
